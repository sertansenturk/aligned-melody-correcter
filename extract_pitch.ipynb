{
 "cells": [
  {
   "cell_type": "code",
   "execution_count": 1,
   "metadata": {
    "collapsed": false
   },
   "outputs": [],
   "source": [
    "from tomato.audio.AudioAnalyzer import AudioAnalyzer\n",
    "import os\n",
    "import json\n"
   ]
  },
  {
   "cell_type": "code",
   "execution_count": 2,
   "metadata": {
    "collapsed": false
   },
   "outputs": [],
   "source": [
    "examplefolder = 'ussak--sazsemaisi--aksaksemai----dede_salih_efendi'\n",
    "audiofile = os.path.join(examplefolder, 'e72db0ad-2ed9-467b-88ae-1f91edcd2c59.mp3')\n",
    "savefile = os.path.join(examplefolder, 'pitch.json')\n",
    "\n",
    "# instantiate\n",
    "audioAnalyzer = AudioAnalyzer()\n"
   ]
  },
  {
   "cell_type": "code",
   "execution_count": 3,
   "metadata": {
    "collapsed": false
   },
   "outputs": [],
   "source": [
    "# extract predominant melody\n",
    "pitch = audioAnalyzer.extract_pitch(audiofile)\n",
    "\n",
    "# save matlab file\n",
    "json.dump(pitch, open(savefile, 'w'))\n"
   ]
  }
 ],
 "metadata": {
  "kernelspec": {
   "display_name": "Python 2",
   "language": "python",
   "name": "python2"
  },
  "language_info": {
   "codemirror_mode": {
    "name": "ipython",
    "version": 2
   },
   "file_extension": ".py",
   "mimetype": "text/x-python",
   "name": "python",
   "nbconvert_exporter": "python",
   "pygments_lexer": "ipython2",
   "version": "2.7.11"
  }
 },
 "nbformat": 4,
 "nbformat_minor": 0
}
